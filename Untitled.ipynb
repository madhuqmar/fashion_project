{
 "cells": [
  {
   "cell_type": "code",
   "execution_count": 1,
   "id": "59f46b07-2834-4724-9193-b7977748ff76",
   "metadata": {},
   "outputs": [],
   "source": [
    "#Data Analysis"
   ]
  },
  {
   "cell_type": "code",
   "execution_count": 57,
   "id": "7e3544e3-8dc2-4ef1-bdd3-65894f1ddf0f",
   "metadata": {},
   "outputs": [],
   "source": [
    "import pandas as pd\n",
    "import matplotlib.pyplot as plt"
   ]
  },
  {
   "cell_type": "code",
   "execution_count": 3,
   "id": "749b8ad7-7f0c-4940-96f9-874e3d662bed",
   "metadata": {},
   "outputs": [],
   "source": [
    "df = pd.read_csv(\"new_products.csv\")"
   ]
  },
  {
   "cell_type": "code",
   "execution_count": 4,
   "id": "bd6c9c8b-a390-4800-ad30-9c581e66508c",
   "metadata": {},
   "outputs": [
    {
     "data": {
      "text/html": [
       "<div>\n",
       "<style scoped>\n",
       "    .dataframe tbody tr th:only-of-type {\n",
       "        vertical-align: middle;\n",
       "    }\n",
       "\n",
       "    .dataframe tbody tr th {\n",
       "        vertical-align: top;\n",
       "    }\n",
       "\n",
       "    .dataframe thead th {\n",
       "        text-align: right;\n",
       "    }\n",
       "</style>\n",
       "<table border=\"1\" class=\"dataframe\">\n",
       "  <thead>\n",
       "    <tr style=\"text-align: right;\">\n",
       "      <th></th>\n",
       "      <th>Unnamed: 0</th>\n",
       "      <th>Name</th>\n",
       "      <th>Price</th>\n",
       "      <th>Product Detail Link</th>\n",
       "      <th>product_id</th>\n",
       "      <th>Product Detail Link Clean</th>\n",
       "      <th>Description</th>\n",
       "      <th>Product Vars</th>\n",
       "    </tr>\n",
       "  </thead>\n",
       "  <tbody>\n",
       "    <tr>\n",
       "      <th>17</th>\n",
       "      <td>17</td>\n",
       "      <td>POPINA SKIRT</td>\n",
       "      <td>168.0</td>\n",
       "      <td>https://www.aritzia.com/us/en/product/popina-s...</td>\n",
       "      <td>18</td>\n",
       "      <td>https://www.aritzia.com/us/en/product/popina-s...</td>\n",
       "      <td>Satin pleated bubble skirt</td>\n",
       "      <td>['1274', '1274']</td>\n",
       "    </tr>\n",
       "    <tr>\n",
       "      <th>23</th>\n",
       "      <td>23</td>\n",
       "      <td>ENTERPRISE SKIRT</td>\n",
       "      <td>168.0</td>\n",
       "      <td>https://www.aritzia.com/us/en/product/enterpri...</td>\n",
       "      <td>24</td>\n",
       "      <td>https://www.aritzia.com/us/en/product/enterpri...</td>\n",
       "      <td>Softly structured pleated midi skirt</td>\n",
       "      <td>['6039', '6039', '1274', '6448']</td>\n",
       "    </tr>\n",
       "    <tr>\n",
       "      <th>3</th>\n",
       "      <td>3</td>\n",
       "      <td>COZY FLEECE MEGA SWEATPANT</td>\n",
       "      <td>75.0</td>\n",
       "      <td>https://www.aritzia.com/us/en/product/cozy-fle...</td>\n",
       "      <td>4</td>\n",
       "      <td>https://www.aritzia.com/us/en/product/cozy-fle...</td>\n",
       "      <td>High-rise oversized fleece sweatpants</td>\n",
       "      <td>['19451', '19451', '4425', '11157', '18771', '...</td>\n",
       "    </tr>\n",
       "  </tbody>\n",
       "</table>\n",
       "</div>"
      ],
      "text/plain": [
       "    Unnamed: 0                        Name  Price  \\\n",
       "17          17                POPINA SKIRT  168.0   \n",
       "23          23            ENTERPRISE SKIRT  168.0   \n",
       "3            3  COZY FLEECE MEGA SWEATPANT   75.0   \n",
       "\n",
       "                                  Product Detail Link  product_id  \\\n",
       "17  https://www.aritzia.com/us/en/product/popina-s...          18   \n",
       "23  https://www.aritzia.com/us/en/product/enterpri...          24   \n",
       "3   https://www.aritzia.com/us/en/product/cozy-fle...           4   \n",
       "\n",
       "                            Product Detail Link Clean  \\\n",
       "17  https://www.aritzia.com/us/en/product/popina-s...   \n",
       "23  https://www.aritzia.com/us/en/product/enterpri...   \n",
       "3   https://www.aritzia.com/us/en/product/cozy-fle...   \n",
       "\n",
       "                              Description  \\\n",
       "17             Satin pleated bubble skirt   \n",
       "23   Softly structured pleated midi skirt   \n",
       "3   High-rise oversized fleece sweatpants   \n",
       "\n",
       "                                         Product Vars  \n",
       "17                                   ['1274', '1274']  \n",
       "23                   ['6039', '6039', '1274', '6448']  \n",
       "3   ['19451', '19451', '4425', '11157', '18771', '...  "
      ]
     },
     "execution_count": 4,
     "metadata": {},
     "output_type": "execute_result"
    }
   ],
   "source": [
    "df.sample(3)"
   ]
  },
  {
   "cell_type": "code",
   "execution_count": 51,
   "id": "ec80faef-5af0-448e-81c9-8de6a53abe2a",
   "metadata": {},
   "outputs": [],
   "source": [
    "dfd = pd.read_csv(\"new_products_detail.csv\")"
   ]
  },
  {
   "cell_type": "code",
   "execution_count": 52,
   "id": "d5bd68f4-3d9b-4bcc-996a-633e34b58684",
   "metadata": {},
   "outputs": [
    {
     "data": {
      "text/html": [
       "<div>\n",
       "<style scoped>\n",
       "    .dataframe tbody tr th:only-of-type {\n",
       "        vertical-align: middle;\n",
       "    }\n",
       "\n",
       "    .dataframe tbody tr th {\n",
       "        vertical-align: top;\n",
       "    }\n",
       "\n",
       "    .dataframe thead th {\n",
       "        text-align: right;\n",
       "    }\n",
       "</style>\n",
       "<table border=\"1\" class=\"dataframe\">\n",
       "  <thead>\n",
       "    <tr style=\"text-align: right;\">\n",
       "      <th></th>\n",
       "      <th>Unnamed: 0</th>\n",
       "      <th>Name</th>\n",
       "      <th>Price</th>\n",
       "      <th>Product Detail Link</th>\n",
       "      <th>product_id</th>\n",
       "      <th>Product Detail Link Clean</th>\n",
       "      <th>Description</th>\n",
       "      <th>Product Vars</th>\n",
       "      <th>Product Detail Link Color</th>\n",
       "      <th>product_sub_id</th>\n",
       "      <th>Product Var Color</th>\n",
       "      <th>sale_price</th>\n",
       "      <th>actual_price</th>\n",
       "      <th>size_availability</th>\n",
       "      <th>Rating</th>\n",
       "      <th>Material</th>\n",
       "      <th>Reviews</th>\n",
       "    </tr>\n",
       "  </thead>\n",
       "  <tbody>\n",
       "    <tr>\n",
       "      <th>376</th>\n",
       "      <td>17</td>\n",
       "      <td>POPINA SKIRT</td>\n",
       "      <td>168.0</td>\n",
       "      <td>https://www.aritzia.com/us/en/product/popina-s...</td>\n",
       "      <td>18</td>\n",
       "      <td>https://www.aritzia.com/us/en/product/popina-s...</td>\n",
       "      <td>Satin pleated bubble skirt</td>\n",
       "      <td>1274</td>\n",
       "      <td>https://www.aritzia.com/us/en/product/popina-s...</td>\n",
       "      <td>377</td>\n",
       "      <td>BLACK</td>\n",
       "      <td>168.0</td>\n",
       "      <td>168.0</td>\n",
       "      <td>['00', 'Only a Few Left', '0', 'Only a Few Lef...</td>\n",
       "      <td>NaN</td>\n",
       "      <td>Content: 62% acetate, 35% polyamide, 3% elasta...</td>\n",
       "      <td>[]</td>\n",
       "    </tr>\n",
       "    <tr>\n",
       "      <th>48</th>\n",
       "      <td>1</td>\n",
       "      <td>COZY FLEECE MEGA CARGO™ SWEATPANT</td>\n",
       "      <td>85.0</td>\n",
       "      <td>https://www.aritzia.com/us/en/product/cozy-fle...</td>\n",
       "      <td>2</td>\n",
       "      <td>https://www.aritzia.com/us/en/product/cozy-fle...</td>\n",
       "      <td>Oversized wide-leg cargo sweatpants</td>\n",
       "      <td>10814</td>\n",
       "      <td>https://www.aritzia.com/us/en/product/cozy-fle...</td>\n",
       "      <td>49</td>\n",
       "      <td>SCARAB</td>\n",
       "      <td>85.0</td>\n",
       "      <td>85.0</td>\n",
       "      <td>['2XS', '1 Left', 'XS', '1 Left', 'S', '3 Left...</td>\n",
       "      <td>4.1 / 5.0</td>\n",
       "      <td>Content: 78% cotton, 22% polyester</td>\n",
       "      <td>['Great quality, soft and comfortable', \"It's ...</td>\n",
       "    </tr>\n",
       "    <tr>\n",
       "      <th>417</th>\n",
       "      <td>32</td>\n",
       "      <td>STRATEGY BLAZER</td>\n",
       "      <td>248.0</td>\n",
       "      <td>https://www.aritzia.com/us/en/product/strategy...</td>\n",
       "      <td>33</td>\n",
       "      <td>https://www.aritzia.com/us/en/product/strategy...</td>\n",
       "      <td>Relaxed single-breasted suiting blazer</td>\n",
       "      <td>1274</td>\n",
       "      <td>https://www.aritzia.com/us/en/product/strategy...</td>\n",
       "      <td>418</td>\n",
       "      <td>BLACK</td>\n",
       "      <td>248.0</td>\n",
       "      <td>248.0</td>\n",
       "      <td>['2XS', '', 'XS', '', 'S', '', 'M', '', 'L', '...</td>\n",
       "      <td>NaN</td>\n",
       "      <td>Origin: Fabric from Portugal</td>\n",
       "      <td>[]</td>\n",
       "    </tr>\n",
       "  </tbody>\n",
       "</table>\n",
       "</div>"
      ],
      "text/plain": [
       "     Unnamed: 0                               Name  Price  \\\n",
       "376          17                       POPINA SKIRT  168.0   \n",
       "48            1  COZY FLEECE MEGA CARGO™ SWEATPANT   85.0   \n",
       "417          32                    STRATEGY BLAZER  248.0   \n",
       "\n",
       "                                   Product Detail Link  product_id  \\\n",
       "376  https://www.aritzia.com/us/en/product/popina-s...          18   \n",
       "48   https://www.aritzia.com/us/en/product/cozy-fle...           2   \n",
       "417  https://www.aritzia.com/us/en/product/strategy...          33   \n",
       "\n",
       "                             Product Detail Link Clean  \\\n",
       "376  https://www.aritzia.com/us/en/product/popina-s...   \n",
       "48   https://www.aritzia.com/us/en/product/cozy-fle...   \n",
       "417  https://www.aritzia.com/us/en/product/strategy...   \n",
       "\n",
       "                                Description  Product Vars  \\\n",
       "376              Satin pleated bubble skirt          1274   \n",
       "48      Oversized wide-leg cargo sweatpants         10814   \n",
       "417  Relaxed single-breasted suiting blazer          1274   \n",
       "\n",
       "                             Product Detail Link Color  product_sub_id  \\\n",
       "376  https://www.aritzia.com/us/en/product/popina-s...             377   \n",
       "48   https://www.aritzia.com/us/en/product/cozy-fle...              49   \n",
       "417  https://www.aritzia.com/us/en/product/strategy...             418   \n",
       "\n",
       "    Product Var Color  sale_price  actual_price  \\\n",
       "376             BLACK       168.0         168.0   \n",
       "48             SCARAB        85.0          85.0   \n",
       "417             BLACK       248.0         248.0   \n",
       "\n",
       "                                     size_availability     Rating  \\\n",
       "376  ['00', 'Only a Few Left', '0', 'Only a Few Lef...        NaN   \n",
       "48   ['2XS', '1 Left', 'XS', '1 Left', 'S', '3 Left...  4.1 / 5.0   \n",
       "417  ['2XS', '', 'XS', '', 'S', '', 'M', '', 'L', '...        NaN   \n",
       "\n",
       "                                              Material  \\\n",
       "376  Content: 62% acetate, 35% polyamide, 3% elasta...   \n",
       "48                  Content: 78% cotton, 22% polyester   \n",
       "417                       Origin: Fabric from Portugal   \n",
       "\n",
       "                                               Reviews  \n",
       "376                                                 []  \n",
       "48   ['Great quality, soft and comfortable', \"It's ...  \n",
       "417                                                 []  "
      ]
     },
     "execution_count": 52,
     "metadata": {},
     "output_type": "execute_result"
    }
   ],
   "source": [
    "dfd.sample(3)"
   ]
  },
  {
   "cell_type": "code",
   "execution_count": 53,
   "id": "40178369-8971-418d-9f5a-b2f6b6fc4786",
   "metadata": {},
   "outputs": [
    {
     "data": {
      "text/plain": [
       "424"
      ]
     },
     "execution_count": 53,
     "metadata": {},
     "output_type": "execute_result"
    }
   ],
   "source": [
    "len(dfd)"
   ]
  },
  {
   "cell_type": "code",
   "execution_count": 54,
   "id": "51566df8-0d91-4e2d-b8ec-9a703257b422",
   "metadata": {},
   "outputs": [],
   "source": [
    "dfd['Reviews'] = dfd['Reviews'].apply(lambda x: x.split('\\','))\n",
    "dfd['Number_of_Reviews'] = dfd['Reviews'].apply(lambda x: len(x))"
   ]
  },
  {
   "cell_type": "code",
   "execution_count": 55,
   "id": "b9d6824d-0552-47e9-bf7f-9ebd50a0aad0",
   "metadata": {},
   "outputs": [
    {
     "data": {
      "text/html": [
       "<div>\n",
       "<style scoped>\n",
       "    .dataframe tbody tr th:only-of-type {\n",
       "        vertical-align: middle;\n",
       "    }\n",
       "\n",
       "    .dataframe tbody tr th {\n",
       "        vertical-align: top;\n",
       "    }\n",
       "\n",
       "    .dataframe thead th {\n",
       "        text-align: right;\n",
       "    }\n",
       "</style>\n",
       "<table border=\"1\" class=\"dataframe\">\n",
       "  <thead>\n",
       "    <tr style=\"text-align: right;\">\n",
       "      <th></th>\n",
       "      <th>Unnamed: 0</th>\n",
       "      <th>Name</th>\n",
       "      <th>Price</th>\n",
       "      <th>Product Detail Link</th>\n",
       "      <th>product_id</th>\n",
       "      <th>Product Detail Link Clean</th>\n",
       "      <th>Description</th>\n",
       "      <th>Product Vars</th>\n",
       "      <th>Product Detail Link Color</th>\n",
       "      <th>product_sub_id</th>\n",
       "      <th>Product Var Color</th>\n",
       "      <th>sale_price</th>\n",
       "      <th>actual_price</th>\n",
       "      <th>size_availability</th>\n",
       "      <th>Rating</th>\n",
       "      <th>Material</th>\n",
       "      <th>Reviews</th>\n",
       "      <th>Number_of_Reviews</th>\n",
       "    </tr>\n",
       "  </thead>\n",
       "  <tbody>\n",
       "    <tr>\n",
       "      <th>0</th>\n",
       "      <td>0</td>\n",
       "      <td>BASE ANKLE SOCK 3-PACK</td>\n",
       "      <td>18.0</td>\n",
       "      <td>https://www.aritzia.com/us/en/product/base-ank...</td>\n",
       "      <td>1</td>\n",
       "      <td>https://www.aritzia.com/us/en/product/base-ank...</td>\n",
       "      <td>Everyday cotton ankle socks, 3-pack</td>\n",
       "      <td>27620</td>\n",
       "      <td>https://www.aritzia.com/us/en/product/base-ank...</td>\n",
       "      <td>1</td>\n",
       "      <td>WHT/H CLOUD WHT/BLK</td>\n",
       "      <td>18.0</td>\n",
       "      <td>18.0</td>\n",
       "      <td>['XS/S', '', 'M/L', 'Ships Sep 12, 2023']</td>\n",
       "      <td>3.6 / 5.0</td>\n",
       "      <td>Content: 83% cotton, 11% nylon, 4% other fibre...</td>\n",
       "      <td>[['So done with Aritzia compromising quality f...</td>\n",
       "      <td>42</td>\n",
       "    </tr>\n",
       "    <tr>\n",
       "      <th>1</th>\n",
       "      <td>0</td>\n",
       "      <td>BASE ANKLE SOCK 3-PACK</td>\n",
       "      <td>18.0</td>\n",
       "      <td>https://www.aritzia.com/us/en/product/base-ank...</td>\n",
       "      <td>1</td>\n",
       "      <td>https://www.aritzia.com/us/en/product/base-ank...</td>\n",
       "      <td>Everyday cotton ankle socks, 3-pack</td>\n",
       "      <td>1274</td>\n",
       "      <td>https://www.aritzia.com/us/en/product/base-ank...</td>\n",
       "      <td>2</td>\n",
       "      <td>BLACK</td>\n",
       "      <td>18.0</td>\n",
       "      <td>18.0</td>\n",
       "      <td>['XS/S', '', 'M/L', '']</td>\n",
       "      <td>3.6 / 5.0</td>\n",
       "      <td>Content: 83% cotton, 11% nylon, 4% other fibre...</td>\n",
       "      <td>[['So done with Aritzia compromising quality f...</td>\n",
       "      <td>42</td>\n",
       "    </tr>\n",
       "    <tr>\n",
       "      <th>2</th>\n",
       "      <td>0</td>\n",
       "      <td>BASE ANKLE SOCK 3-PACK</td>\n",
       "      <td>18.0</td>\n",
       "      <td>https://www.aritzia.com/us/en/product/base-ank...</td>\n",
       "      <td>1</td>\n",
       "      <td>https://www.aritzia.com/us/en/product/base-ank...</td>\n",
       "      <td>Everyday cotton ankle socks, 3-pack</td>\n",
       "      <td>1275</td>\n",
       "      <td>https://www.aritzia.com/us/en/product/base-ank...</td>\n",
       "      <td>3</td>\n",
       "      <td>WHITE</td>\n",
       "      <td>18.0</td>\n",
       "      <td>18.0</td>\n",
       "      <td>['XS/S', '', 'M/L', '']</td>\n",
       "      <td>3.6 / 5.0</td>\n",
       "      <td>Content: 83% cotton, 11% nylon, 4% other fibre...</td>\n",
       "      <td>[['So done with Aritzia compromising quality f...</td>\n",
       "      <td>42</td>\n",
       "    </tr>\n",
       "  </tbody>\n",
       "</table>\n",
       "</div>"
      ],
      "text/plain": [
       "   Unnamed: 0                    Name  Price  \\\n",
       "0           0  BASE ANKLE SOCK 3-PACK   18.0   \n",
       "1           0  BASE ANKLE SOCK 3-PACK   18.0   \n",
       "2           0  BASE ANKLE SOCK 3-PACK   18.0   \n",
       "\n",
       "                                 Product Detail Link  product_id  \\\n",
       "0  https://www.aritzia.com/us/en/product/base-ank...           1   \n",
       "1  https://www.aritzia.com/us/en/product/base-ank...           1   \n",
       "2  https://www.aritzia.com/us/en/product/base-ank...           1   \n",
       "\n",
       "                           Product Detail Link Clean  \\\n",
       "0  https://www.aritzia.com/us/en/product/base-ank...   \n",
       "1  https://www.aritzia.com/us/en/product/base-ank...   \n",
       "2  https://www.aritzia.com/us/en/product/base-ank...   \n",
       "\n",
       "                           Description  Product Vars  \\\n",
       "0  Everyday cotton ankle socks, 3-pack         27620   \n",
       "1  Everyday cotton ankle socks, 3-pack          1274   \n",
       "2  Everyday cotton ankle socks, 3-pack          1275   \n",
       "\n",
       "                           Product Detail Link Color  product_sub_id  \\\n",
       "0  https://www.aritzia.com/us/en/product/base-ank...               1   \n",
       "1  https://www.aritzia.com/us/en/product/base-ank...               2   \n",
       "2  https://www.aritzia.com/us/en/product/base-ank...               3   \n",
       "\n",
       "     Product Var Color  sale_price  actual_price  \\\n",
       "0  WHT/H CLOUD WHT/BLK        18.0          18.0   \n",
       "1                BLACK        18.0          18.0   \n",
       "2                WHITE        18.0          18.0   \n",
       "\n",
       "                           size_availability     Rating  \\\n",
       "0  ['XS/S', '', 'M/L', 'Ships Sep 12, 2023']  3.6 / 5.0   \n",
       "1                    ['XS/S', '', 'M/L', '']  3.6 / 5.0   \n",
       "2                    ['XS/S', '', 'M/L', '']  3.6 / 5.0   \n",
       "\n",
       "                                            Material  \\\n",
       "0  Content: 83% cotton, 11% nylon, 4% other fibre...   \n",
       "1  Content: 83% cotton, 11% nylon, 4% other fibre...   \n",
       "2  Content: 83% cotton, 11% nylon, 4% other fibre...   \n",
       "\n",
       "                                             Reviews  Number_of_Reviews  \n",
       "0  [['So done with Aritzia compromising quality f...                 42  \n",
       "1  [['So done with Aritzia compromising quality f...                 42  \n",
       "2  [['So done with Aritzia compromising quality f...                 42  "
      ]
     },
     "execution_count": 55,
     "metadata": {},
     "output_type": "execute_result"
    }
   ],
   "source": [
    "dfd.head(3)"
   ]
  },
  {
   "cell_type": "code",
   "execution_count": 78,
   "id": "3b4d9a67-2419-46f1-afef-ccbde87c107a",
   "metadata": {},
   "outputs": [
    {
     "data": {
      "text/plain": [
       "count    424.000000\n",
       "mean      70.520283\n",
       "std       61.640113\n",
       "min        8.990000\n",
       "25%       29.990000\n",
       "50%       68.000000\n",
       "75%       78.000000\n",
       "max      398.000000\n",
       "Name: sale_price, dtype: float64"
      ]
     },
     "execution_count": 78,
     "metadata": {},
     "output_type": "execute_result"
    }
   ],
   "source": [
    "dfd['sale_price'].describe()"
   ]
  },
  {
   "cell_type": "code",
   "execution_count": 79,
   "id": "d5209dd6-5140-48aa-b4d6-8cbc3ca2dc68",
   "metadata": {},
   "outputs": [
    {
     "data": {
      "image/png": "[encoded data removed]",
      "text/plain": [
       "<Figure size 432x288 with 1 Axes>"
      ]
     },
     "metadata": {
      "needs_background": "light"
     },
     "output_type": "display_data"
    }
   ],
   "source": [
    "plt.hist(dfd['sale_price'], bins=10, edgecolor='k')  # You can adjust the number of bins\n",
    "plt.xlabel('Price')\n",
    "plt.ylabel('Quantity')\n",
    "plt.title('Distribution of Aritzia Prices')\n",
    "plt.grid(True)\n",
    "plt.show()"
   ]
  },
  {
   "cell_type": "code",
   "execution_count": 56,
   "id": "9390e2b4-e334-4708-94a5-2342070b01a7",
   "metadata": {},
   "outputs": [
    {
     "data": {
      "text/plain": [
       "count    424.000000\n",
       "mean      77.389151\n",
       "std       58.356101\n",
       "min       18.000000\n",
       "25%       38.000000\n",
       "50%       68.000000\n",
       "75%       78.000000\n",
       "max      398.000000\n",
       "Name: actual_price, dtype: float64"
      ]
     },
     "execution_count": 56,
     "metadata": {},
     "output_type": "execute_result"
    }
   ],
   "source": [
    "dfd['actual_price'].describe()"
   ]
  },
  {
   "cell_type": "code",
   "execution_count": 59,
   "id": "f9132f7a-8394-4933-a7f6-11c62b3bd8e8",
   "metadata": {},
   "outputs": [
    {
     "data": {
      "image/png": "[encoded data removed]",
      "text/plain": [
       "<Figure size 432x288 with 1 Axes>"
      ]
     },
     "metadata": {
      "needs_background": "light"
     },
     "output_type": "display_data"
    }
   ],
   "source": [
    "plt.hist(dfd['actual_price'], bins=10, edgecolor='k')  # You can adjust the number of bins\n",
    "plt.xlabel('Price')\n",
    "plt.ylabel('Quantity')\n",
    "plt.title('Distribution of Aritzia Prices')\n",
    "plt.grid(True)\n",
    "plt.show()"
   ]
  },
  {
   "cell_type": "code",
   "execution_count": 60,
   "id": "8832bc2e-28a2-4adf-b5fe-b0577c79adc3",
   "metadata": {},
   "outputs": [
    {
     "data": {
      "text/plain": [
       "count       424\n",
       "unique      163\n",
       "top       BLACK\n",
       "freq         32\n",
       "Name: Product Var Color, dtype: object"
      ]
     },
     "execution_count": 60,
     "metadata": {},
     "output_type": "execute_result"
    }
   ],
   "source": [
    "dfd['Product Var Color'].describe()"
   ]
  },
  {
   "cell_type": "code",
   "execution_count": 77,
   "id": "e39272f1-b3a3-4164-96e0-3738a08ffee1",
   "metadata": {},
   "outputs": [
    {
     "data": {
      "image/png": "[encoded data removed]",
      "text/plain": [
       "<Figure size 720x720 with 1 Axes>"
      ]
     },
     "metadata": {
      "needs_background": "light"
     },
     "output_type": "display_data"
    }
   ],
   "source": [
    "category_counts = dfd['Product Var Color'].value_counts().head(5)\n",
    "plt.figure(figsize=(10, 10))\n",
    "\n",
    "# Create a bar chart to visualize the distribution\n",
    "plt.bar(category_counts.index, category_counts.values, color='black')\n",
    "plt.xlabel('Color')\n",
    "plt.ylabel('Frequency')\n",
    "plt.title('Top 5 Aritzia Colors')\n",
    "plt.show()\n"
   ]
  },
  {
   "cell_type": "code",
   "execution_count": 62,
   "id": "4cb5c112-68b8-4255-9f55-74c8cbfe8db5",
   "metadata": {},
   "outputs": [
    {
     "data": {
      "text/plain": [
       "BLACK                  32\n",
       "WHITE                  11\n",
       "HEATHER DARK GREY      11\n",
       "MATTE PEARL            10\n",
       "RICH MOCHA BROWN        9\n",
       "                       ..\n",
       "TANGELO ORANGE          1\n",
       "MOON DUST GREY          1\n",
       "LAVANDIN                1\n",
       "BLACK/ SILVER SPIRO     1\n",
       "KOMBU/WHITE             1\n",
       "Name: Product Var Color, Length: 163, dtype: int64"
      ]
     },
     "execution_count": 62,
     "metadata": {},
     "output_type": "execute_result"
    }
   ],
   "source": [
    "category_counts "
   ]
  },
  {
   "cell_type": "code",
   "execution_count": null,
   "id": "3d6cb89c-d9bb-4c77-9703-55e4a9d3025f",
   "metadata": {},
   "outputs": [],
   "source": []
  }
 ],
 "metadata": {
  "kernelspec": {
   "display_name": "Python 3 (ipykernel)",
   "language": "python",
   "name": "python3"
  },
  "language_info": {
   "codemirror_mode": {
    "name": "ipython",
    "version": 3
   },
   "file_extension": ".py",
   "mimetype": "text/x-python",
   "name": "python",
   "nbconvert_exporter": "python",
   "pygments_lexer": "ipython3",
   "version": "3.8.8"
  }
 },
 "nbformat": 4,
 "nbformat_minor": 5
}
